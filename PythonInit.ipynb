{
  "nbformat": 4,
  "nbformat_minor": 0,
  "metadata": {
    "colab": {
      "provenance": []
    },
    "kernelspec": {
      "name": "python3",
      "display_name": "Python 3"
    },
    "language_info": {
      "name": "python"
    }
  },
  "cells": [
    {
      "cell_type": "code",
      "source": [
        "x = 'salt'\n",
        "\n",
        "if x>1:\n",
        "    print(\"Greater\")\n",
        "elif x<1:\n",
        "    print(\"Smaller\")\n",
        "elif x==1:\n",
        "    print(\"Equal\")\n",
        "else:\n",
        "    print(\"Invalid\")\n"
      ],
      "metadata": {
        "colab": {
          "base_uri": "https://localhost:8080/",
          "height": 219
        },
        "id": "7axnDi0gcCsj",
        "outputId": "5bb10c6d-ac2d-4790-b399-67ceaaed466b"
      },
      "execution_count": null,
      "outputs": [
        {
          "output_type": "error",
          "ename": "TypeError",
          "evalue": "'>' not supported between instances of 'str' and 'int'",
          "traceback": [
            "\u001b[0;31m---------------------------------------------------------------------------\u001b[0m",
            "\u001b[0;31mTypeError\u001b[0m                                 Traceback (most recent call last)",
            "\u001b[0;32m<ipython-input-2-0ebe9d54296a>\u001b[0m in \u001b[0;36m<cell line: 3>\u001b[0;34m()\u001b[0m\n\u001b[1;32m      1\u001b[0m \u001b[0mx\u001b[0m \u001b[0;34m=\u001b[0m \u001b[0;34m'salt'\u001b[0m\u001b[0;34m\u001b[0m\u001b[0;34m\u001b[0m\u001b[0m\n\u001b[1;32m      2\u001b[0m \u001b[0;34m\u001b[0m\u001b[0m\n\u001b[0;32m----> 3\u001b[0;31m \u001b[0;32mif\u001b[0m \u001b[0mx\u001b[0m\u001b[0;34m>\u001b[0m\u001b[0;36m1\u001b[0m\u001b[0;34m:\u001b[0m\u001b[0;34m\u001b[0m\u001b[0;34m\u001b[0m\u001b[0m\n\u001b[0m\u001b[1;32m      4\u001b[0m     \u001b[0mprint\u001b[0m\u001b[0;34m(\u001b[0m\u001b[0;34m\"Greater\"\u001b[0m\u001b[0;34m)\u001b[0m\u001b[0;34m\u001b[0m\u001b[0;34m\u001b[0m\u001b[0m\n\u001b[1;32m      5\u001b[0m \u001b[0;32melif\u001b[0m \u001b[0mx\u001b[0m\u001b[0;34m<\u001b[0m\u001b[0;36m1\u001b[0m\u001b[0;34m:\u001b[0m\u001b[0;34m\u001b[0m\u001b[0;34m\u001b[0m\u001b[0m\n",
            "\u001b[0;31mTypeError\u001b[0m: '>' not supported between instances of 'str' and 'int'"
          ]
        }
      ]
    },
    {
      "cell_type": "code",
      "source": [
        "'''\n",
        "def thing():\n",
        "  print('New Func')\n",
        "  print('Func Executed')\n",
        "\n",
        "thing()\n",
        "print('Pause')\n",
        "thing()\n",
        "print('Exit')\n",
        "\n",
        "'''\n",
        "big = max('Helloz world')\n",
        "print('Big is',big)\n",
        "\n",
        "tiny = min('aHello world')\n",
        "print('Small is',tiny)\n"
      ],
      "metadata": {
        "colab": {
          "base_uri": "https://localhost:8080/"
        },
        "id": "ltX2PRqM7CLM",
        "outputId": "b298cc77-78ca-4934-dd25-998b973a73ce"
      },
      "execution_count": null,
      "outputs": [
        {
          "output_type": "stream",
          "name": "stdout",
          "text": [
            "Big is z\n",
            "Small is  \n"
          ]
        }
      ]
    },
    {
      "cell_type": "code",
      "source": [
        "for i in [1,2,3,4,5]:\n",
        "  print(i)\n",
        "print('Exit Loop')\n",
        "\n",
        "\n",
        "friends = ['Jimmy','Creta','Virtus']\n",
        "\n",
        "for friends in friends:\n",
        "  print(\"Hello\",cars)\n",
        "print('exit this loop')"
      ],
      "metadata": {
        "colab": {
          "base_uri": "https://localhost:8080/"
        },
        "id": "Hy3jwvjmIqYf",
        "outputId": "ec7fabfa-b621-42b8-a1b0-d956dd890739"
      },
      "execution_count": null,
      "outputs": [
        {
          "output_type": "stream",
          "name": "stdout",
          "text": [
            "1\n",
            "2\n",
            "3\n",
            "4\n",
            "5\n",
            "Exit Loop\n",
            "Hello Virtus\n",
            "Hello Virtus\n",
            "Hello Virtus\n",
            "exit this loop\n"
          ]
        }
      ]
    },
    {
      "cell_type": "markdown",
      "source": [
        "#***Finding smallest and largest number from multiple inputs and terminating at done as input***"
      ],
      "metadata": {
        "id": "OY8pEJ4pgSxj"
      }
    },
    {
      "cell_type": "code",
      "source": [
        "#finding smallest and largest number from multiple inputs and terminating at done as input\n",
        "\n",
        "largest = None\n",
        "smallest = None\n",
        "\n",
        "while True:\n",
        "    user_input = input(\"Enter an integer number or 'done' to finish: \")\n",
        "\n",
        "    if user_input.lower() == 'done':\n",
        "        break\n",
        "\n",
        "    try:\n",
        "        num = int(user_input)\n",
        "        if largest is None or num > largest:\n",
        "            largest = num\n",
        "        if smallest is None or num < smallest:\n",
        "            smallest = num\n",
        "    except ValueError:\n",
        "        print(\"Invalid input\")\n",
        "\n",
        "if largest is not None and smallest is not None:\n",
        "    print(\"Maximum is\", largest)\n",
        "    print(\"Minimum is\", smallest)\n",
        "else:\n",
        "    print(\"No valid numbers entered.\")\n"
      ],
      "metadata": {
        "id": "aVtEx6BUXbm5"
      },
      "execution_count": null,
      "outputs": []
    },
    {
      "cell_type": "markdown",
      "source": [
        "# **Searching through a File**"
      ],
      "metadata": {
        "id": "pfyezWguSCd1"
      }
    },
    {
      "cell_type": "code",
      "source": [
        "fhand = open('mbox.txt')\n",
        "for line in fhand:\n",
        "  if line.startswith('From:'):\n",
        "    print(line)"
      ],
      "metadata": {
        "colab": {
          "base_uri": "https://localhost:8080/"
        },
        "id": "zHStBUyqRwY6",
        "outputId": "8454b9ff-e4cd-4742-ca4a-0957b6d0fcf9"
      },
      "execution_count": null,
      "outputs": [
        {
          "output_type": "stream",
          "name": "stdout",
          "text": [
            "From: stephen.marquard@uct.ac.za\n",
            "\n",
            "From: louis@media.berkeley.edu\n",
            "\n",
            "From: zqian@umich.edu\n",
            "\n",
            "From: rjlowe@iupui.edu\n",
            "\n",
            "From: zqian@umich.edu\n",
            "\n",
            "From: rjlowe@iupui.edu\n",
            "\n",
            "From: cwen@iupui.edu\n",
            "\n",
            "From: cwen@iupui.edu\n",
            "\n",
            "From: gsilver@umich.edu\n",
            "\n",
            "From: gsilver@umich.edu\n",
            "\n",
            "From: zqian@umich.edu\n",
            "\n"
          ]
        }
      ]
    },
    {
      "cell_type": "code",
      "source": [
        "#used rstrip to remove whitespaces\n",
        "fhand = open('mbox.txt')\n",
        "for line in fhand:\n",
        "  if line.startswith('From:'):\n",
        "    print(line.rstrip())"
      ],
      "metadata": {
        "colab": {
          "base_uri": "https://localhost:8080/"
        },
        "id": "C1F0hbwuSlgs",
        "outputId": "a5ea27aa-5a63-45e8-8bfc-170fd7be84c0"
      },
      "execution_count": null,
      "outputs": [
        {
          "output_type": "stream",
          "name": "stdout",
          "text": [
            "From: stephen.marquard@uct.ac.za\n",
            "From: louis@media.berkeley.edu\n",
            "From: zqian@umich.edu\n",
            "From: rjlowe@iupui.edu\n",
            "From: zqian@umich.edu\n",
            "From: rjlowe@iupui.edu\n",
            "From: cwen@iupui.edu\n",
            "From: cwen@iupui.edu\n",
            "From: gsilver@umich.edu\n",
            "From: gsilver@umich.edu\n",
            "From: zqian@umich.edu\n"
          ]
        }
      ]
    },
    {
      "cell_type": "code",
      "source": [
        "#Another way of doing the same thing but in different way:\n",
        "\n",
        "fhand = open('mbox.txt')\n",
        "for line in fhand:\n",
        "  if not line.startswith('From:'):\n",
        "    continue\n",
        "  print(line.rstrip())"
      ],
      "metadata": {
        "colab": {
          "base_uri": "https://localhost:8080/"
        },
        "id": "2-aRzA0AS-k5",
        "outputId": "2fb36a18-c7fb-4ed9-eb6e-b4de3e0486a7"
      },
      "execution_count": null,
      "outputs": [
        {
          "output_type": "stream",
          "name": "stdout",
          "text": [
            "From: stephen.marquard@uct.ac.za\n",
            "From: louis@media.berkeley.edu\n",
            "From: zqian@umich.edu\n",
            "From: rjlowe@iupui.edu\n",
            "From: zqian@umich.edu\n",
            "From: rjlowe@iupui.edu\n",
            "From: cwen@iupui.edu\n",
            "From: cwen@iupui.edu\n",
            "From: gsilver@umich.edu\n",
            "From: gsilver@umich.edu\n",
            "From: zqian@umich.edu\n"
          ]
        }
      ]
    },
    {
      "cell_type": "markdown",
      "source": [
        "#**Promt for file name**"
      ],
      "metadata": {
        "id": "ghuN5gQgh-oc"
      }
    },
    {
      "cell_type": "code",
      "source": [
        "fname = input('Enter File name: ')\n",
        "fhand = open(fname)\n",
        "count = 0\n",
        "for line in fhand:\n",
        "  if line.startswith('Subject:'):\n",
        "    count = count + 1\n",
        "print('There were',count,'Subject lines in the file')"
      ],
      "metadata": {
        "colab": {
          "base_uri": "https://localhost:8080/"
        },
        "id": "0AL8A2WBiEA4",
        "outputId": "cbafff6f-0efd-4ae6-a3ee-6258e359c436"
      },
      "execution_count": null,
      "outputs": [
        {
          "output_type": "stream",
          "name": "stdout",
          "text": [
            "Enter File name: mbox.txt\n",
            "There were 11 Subject lines in the file\n"
          ]
        }
      ]
    },
    {
      "cell_type": "markdown",
      "source": [
        "#**Graded Assignment**"
      ],
      "metadata": {
        "id": "tqKjbIIFoMx7"
      }
    },
    {
      "cell_type": "code",
      "source": [
        "'''7.2 Write a program that prompts for a file name, then opens that file and reads through the file, looking for lines of the form:\n",
        "X-DSPAM-Confidence:    0.8475\n",
        "Count these lines and extract the floating point values from each of the lines and compute the average of those values and produce an output as shown below. Do not use the sum() function or a variable named sum in your solution.\n",
        "You can download the sample data at http://www.py4e.com/code3/mbox-short.txt when you are testing below enter mbox-short.txt as the file name.\n",
        "\n",
        "   Grade updated on server.\n",
        "\n",
        "'''\n",
        "1\n",
        "# Use the file name mbox-short.txt as the file name\n",
        "2\n",
        "fname = input(\"Enter file name: \")\n",
        "3\n",
        "count = 0\n",
        "4\n",
        "float_value = 0\n",
        "5\n",
        "fh = open(fname)\n",
        "6\n",
        "for line in fh:\n",
        "7\n",
        "    if not line.startswith(\"X-DSPAM-Confidence:\"):\n",
        "8\n",
        "        continue\n",
        "9\n",
        "    atpos = line.find(':')\n",
        "10\n",
        "    float_value = float_value+float(line[atpos+1:])\n",
        "11\n",
        "    count = count+1\n",
        "12\n",
        "\n",
        "13\n",
        "\n",
        "14\n",
        "print(\"Average spam confidence:\",float_value/count)"
      ],
      "metadata": {
        "id": "H0f2_nkVoST2"
      },
      "execution_count": null,
      "outputs": []
    },
    {
      "cell_type": "code",
      "source": [
        "numlist = list()\n",
        "while True:\n",
        "  inp = input(\"Enter a number: \")\n",
        "  if inp.lower() == 'done':\n",
        "    break\n",
        "  value = float(inp)\n",
        "  numlist.append(value)\n",
        "Average = sum(numlist)/len(numlist)\n",
        "print('Average is :',Average)"
      ],
      "metadata": {
        "id": "KFPyGc8OvnR1",
        "colab": {
          "base_uri": "https://localhost:8080/",
          "height": 219
        },
        "outputId": "93901ef6-c137-4a4b-9f77-08a70bfa0c15"
      },
      "execution_count": null,
      "outputs": [
        {
          "name": "stdout",
          "output_type": "stream",
          "text": [
            "Enter a number: done\n"
          ]
        },
        {
          "output_type": "error",
          "ename": "ZeroDivisionError",
          "evalue": "division by zero",
          "traceback": [
            "\u001b[0;31m---------------------------------------------------------------------------\u001b[0m",
            "\u001b[0;31mZeroDivisionError\u001b[0m                         Traceback (most recent call last)",
            "\u001b[0;32m<ipython-input-6-792ee2744d7e>\u001b[0m in \u001b[0;36m<cell line: 8>\u001b[0;34m()\u001b[0m\n\u001b[1;32m      6\u001b[0m   \u001b[0mvalue\u001b[0m \u001b[0;34m=\u001b[0m \u001b[0mfloat\u001b[0m\u001b[0;34m(\u001b[0m\u001b[0minp\u001b[0m\u001b[0;34m)\u001b[0m\u001b[0;34m\u001b[0m\u001b[0;34m\u001b[0m\u001b[0m\n\u001b[1;32m      7\u001b[0m   \u001b[0mnumlist\u001b[0m\u001b[0;34m.\u001b[0m\u001b[0mappend\u001b[0m\u001b[0;34m(\u001b[0m\u001b[0mvalue\u001b[0m\u001b[0;34m)\u001b[0m\u001b[0;34m\u001b[0m\u001b[0;34m\u001b[0m\u001b[0m\n\u001b[0;32m----> 8\u001b[0;31m \u001b[0mAverage\u001b[0m \u001b[0;34m=\u001b[0m \u001b[0msum\u001b[0m\u001b[0;34m(\u001b[0m\u001b[0mnumlist\u001b[0m\u001b[0;34m)\u001b[0m\u001b[0;34m/\u001b[0m\u001b[0mlen\u001b[0m\u001b[0;34m(\u001b[0m\u001b[0mnumlist\u001b[0m\u001b[0;34m)\u001b[0m\u001b[0;34m\u001b[0m\u001b[0;34m\u001b[0m\u001b[0m\n\u001b[0m\u001b[1;32m      9\u001b[0m \u001b[0mprint\u001b[0m\u001b[0;34m(\u001b[0m\u001b[0;34m'Average is :'\u001b[0m\u001b[0;34m,\u001b[0m\u001b[0mAverage\u001b[0m\u001b[0;34m)\u001b[0m\u001b[0;34m\u001b[0m\u001b[0;34m\u001b[0m\u001b[0m\n",
            "\u001b[0;31mZeroDivisionError\u001b[0m: division by zero"
          ]
        }
      ]
    },
    {
      "cell_type": "code",
      "source": [
        "fruit = 'Banana'\n",
        "#fruit[0] = 'b'\n",
        "print(fruit[0])"
      ],
      "metadata": {
        "colab": {
          "base_uri": "https://localhost:8080/"
        },
        "id": "-pMsh5qwd3lZ",
        "outputId": "3ada57aa-f963-40ab-d96e-406c44899955"
      },
      "execution_count": null,
      "outputs": [
        {
          "output_type": "stream",
          "name": "stdout",
          "text": [
            "B\n"
          ]
        }
      ]
    },
    {
      "cell_type": "code",
      "source": [
        "a = \"Bhagat\"\n",
        "b = 100\n",
        "c = a + str(b)\t\t# Concatinate string with number\n",
        "print (a, \" + \", b, \" --> \", c)"
      ],
      "metadata": {
        "id": "VjAoFgu8HhOw",
        "outputId": "bf2568b6-3bdc-43a5-fc66-20f1a5bfcc17",
        "colab": {
          "base_uri": "https://localhost:8080/"
        }
      },
      "execution_count": null,
      "outputs": [
        {
          "output_type": "stream",
          "name": "stdout",
          "text": [
            "Bhagat  +  100  -->  Bhagat100\n"
          ]
        }
      ]
    },
    {
      "cell_type": "code",
      "source": [
        "dt = dict()\n",
        "dt['Pranav']=24\n",
        "dt['888']=32\n",
        "dt[1023]=39\n",
        "dt['Pranav']=48\n",
        "print(dt)"
      ],
      "metadata": {
        "colab": {
          "base_uri": "https://localhost:8080/"
        },
        "id": "mVobuyJe62-P",
        "outputId": "70057d71-3690-45c0-9ce6-d1745a4ff7e8"
      },
      "execution_count": null,
      "outputs": [
        {
          "output_type": "stream",
          "name": "stdout",
          "text": [
            "{'Pranav': 48, '888': 32, 1023: 39}\n"
          ]
        }
      ]
    },
    {
      "cell_type": "markdown",
      "source": [
        "#**Print prime numbers**"
      ],
      "metadata": {
        "id": "rkOIgBgi-f_m"
      }
    },
    {
      "cell_type": "code",
      "source": [
        "\n",
        "for num in range(100,200):\n",
        "  if all(num%i != 0 for i in range(2,num)):\n",
        "    print(num,\"\")\n"
      ],
      "metadata": {
        "colab": {
          "base_uri": "https://localhost:8080/"
        },
        "id": "qpgU6o9y-XQe",
        "outputId": "9a48eea7-c05d-4760-dd1e-74ff330629d7"
      },
      "execution_count": null,
      "outputs": [
        {
          "output_type": "stream",
          "name": "stdout",
          "text": [
            "101 \n",
            "103 \n",
            "107 \n",
            "109 \n",
            "113 \n",
            "127 \n",
            "131 \n",
            "137 \n",
            "139 \n",
            "149 \n",
            "151 \n",
            "157 \n",
            "163 \n",
            "167 \n",
            "173 \n",
            "179 \n",
            "181 \n",
            "191 \n",
            "193 \n",
            "197 \n",
            "199 \n"
          ]
        }
      ]
    },
    {
      "cell_type": "code",
      "source": [
        "# Python3 program to display Prime numbers till N\n",
        "\n",
        "#function to check if a given number is prime\n",
        "def isPrime(n):\n",
        "#since 0 and 1 is not prime return false.\n",
        "\tif(n==1 or n==0): return False\n",
        "\n",
        "#Run a loop from 2 to n-1\n",
        "\tfor i in range(2,n):\n",
        "\t#if the number is divisible by i, then n is not a prime number.\n",
        "\t\tif(n%i==0):\n",
        "\t\t\treturn False\n",
        "\n",
        "#otherwise, n is prime number.\n",
        "\treturn True\n",
        "\n",
        "\n",
        "\n",
        "# Driver code\n",
        "N = 100;\n",
        "#check for every number from 1 to N\n",
        "for i in range(1,N+1):\n",
        "#check if current number is prime\n",
        "\tif(isPrime(i)):\n",
        "\t\tprint(i,end=\" \")\n"
      ],
      "metadata": {
        "colab": {
          "base_uri": "https://localhost:8080/"
        },
        "id": "6LfYaSOwDDIt",
        "outputId": "588f705c-1c8c-42ef-9742-de5da1373fa9"
      },
      "execution_count": null,
      "outputs": [
        {
          "output_type": "stream",
          "name": "stdout",
          "text": [
            "2 3 5 7 11 13 17 19 23 29 31 37 41 43 47 53 59 61 67 71 73 79 83 89 97 "
          ]
        }
      ]
    },
    {
      "cell_type": "markdown",
      "source": [
        "#Sorting in List"
      ],
      "metadata": {
        "id": "YNtADddIE_eB"
      }
    },
    {
      "cell_type": "code",
      "source": [
        "List = [12,34,544,223,12,33,2,1,5,7,9,76,4,87,43,12,6,34]\n",
        "List.sort()\n",
        "print(List)"
      ],
      "metadata": {
        "colab": {
          "base_uri": "https://localhost:8080/"
        },
        "id": "jkFsVHnkFCpM",
        "outputId": "4f0cd58f-903a-4f5c-b233-6c4dc7773ebe"
      },
      "execution_count": null,
      "outputs": [
        {
          "output_type": "stream",
          "name": "stdout",
          "text": [
            "[1, 2, 4, 5, 6, 7, 9, 12, 12, 12, 33, 34, 34, 43, 76, 87, 223, 544]\n"
          ]
        }
      ]
    },
    {
      "cell_type": "markdown",
      "source": [
        "#Fibonacci Series"
      ],
      "metadata": {
        "id": "p9KDI2hBFVqJ"
      }
    },
    {
      "cell_type": "code",
      "source": [
        "def fibo(n):\n",
        "  if n<0:\n",
        "    print('Invalid number')\n",
        "  elif n==0:\n",
        "    return 0\n",
        "  elif n==1 or n==2:\n",
        "    return 1\n",
        "  else:\n",
        "    return fibo(n-1)+fibo(n-2)\n",
        "\n",
        "for i in range(10):\n",
        "  print(fibo(i))\n"
      ],
      "metadata": {
        "id": "BHJSq4VlFN1W",
        "colab": {
          "base_uri": "https://localhost:8080/"
        },
        "outputId": "6d3987c4-aa7f-47db-d9b9-78b61ee59ae1"
      },
      "execution_count": null,
      "outputs": [
        {
          "output_type": "stream",
          "name": "stdout",
          "text": [
            "0\n",
            "1\n",
            "1\n",
            "2\n",
            "3\n",
            "5\n",
            "8\n",
            "13\n",
            "21\n",
            "34\n"
          ]
        }
      ]
    },
    {
      "cell_type": "markdown",
      "source": [
        "#Return reversed list"
      ],
      "metadata": {
        "id": "6y44Mi_mc0tY"
      }
    },
    {
      "cell_type": "code",
      "source": [
        "def rev(list):\n",
        "  return list[::-1]\n",
        "\n",
        "list = [44,2,5,66,7,23,11,32,45,76]\n",
        "print(rev(list))\n"
      ],
      "metadata": {
        "colab": {
          "base_uri": "https://localhost:8080/"
        },
        "id": "OETZ8iUVc4-k",
        "outputId": "4750d3b9-55d7-4c1b-feef-a90921771c83"
      },
      "execution_count": null,
      "outputs": [
        {
          "output_type": "stream",
          "name": "stdout",
          "text": [
            "[76, 45, 32, 11, 23, 7, 66, 5, 2, 44]\n"
          ]
        }
      ]
    },
    {
      "cell_type": "markdown",
      "source": [
        "#Palindrome string"
      ],
      "metadata": {
        "id": "QrtnUhd9ejZH"
      }
    },
    {
      "cell_type": "code",
      "source": [
        "string = 'naman'\n",
        "\n",
        "new = string[::-1]\n",
        "print(new)\n",
        "\n",
        "if string == new:\n",
        "  print(\"palin\")\n",
        "else:\n",
        "  print(\"nope\")"
      ],
      "metadata": {
        "colab": {
          "base_uri": "https://localhost:8080/"
        },
        "id": "k2rkdy6ldoBX",
        "outputId": "daa8415f-3266-447d-e628-9035f9ed7ee3"
      },
      "execution_count": null,
      "outputs": [
        {
          "output_type": "stream",
          "name": "stdout",
          "text": [
            "naman\n",
            "palin\n"
          ]
        }
      ]
    },
    {
      "cell_type": "markdown",
      "source": [
        "#Duplicate values in array"
      ],
      "metadata": {
        "id": "EE4P2Szbr7kV"
      }
    },
    {
      "cell_type": "code",
      "source": [
        "#Method 1\n",
        "lis = [1, 2, 1, 2, 3, 4, 5, 1, 1, 2, 5, 6, 7, 8, 9, 9,10,44,11,12,13,44]\n",
        "unique = []\n",
        "dupli = []\n",
        "for item in lis:\n",
        "  if item not in unique:\n",
        "    unique.append(item)\n",
        "  elif item not in dupli:\n",
        "    dupli.append(item)\n",
        "print(dupli)\n"
      ],
      "metadata": {
        "colab": {
          "base_uri": "https://localhost:8080/"
        },
        "id": "-gN9f4SbsAdh",
        "outputId": "9326788e-acf6-4843-a183-0eeaeb7c291e"
      },
      "execution_count": null,
      "outputs": [
        {
          "output_type": "stream",
          "name": "stdout",
          "text": [
            "[1, 2, 5, 9, 44]\n"
          ]
        }
      ]
    },
    {
      "cell_type": "code",
      "source": [
        "#Using Counter from ollections\n",
        "\n",
        "from collections import Counter\n",
        "\n",
        "list = [1,2,1,2,3,4,5,1,1,2,5,6,7,8,9,9]\n",
        "d = Counter(list)\n",
        "\n",
        "newlist = []\n",
        "\n",
        "for item in d:\n",
        "  if d[item]>1:\n",
        "      newlist.append(item)\n",
        "\n",
        "print(newlist)"
      ],
      "metadata": {
        "colab": {
          "base_uri": "https://localhost:8080/"
        },
        "id": "d5Vntm81I9_Y",
        "outputId": "ce743883-19ff-4378-fbe8-84a7c1651e7c"
      },
      "execution_count": null,
      "outputs": [
        {
          "output_type": "stream",
          "name": "stdout",
          "text": [
            "[1, 2, 5, 9]\n"
          ]
        }
      ]
    },
    {
      "cell_type": "markdown",
      "source": [
        "#Print no. of words in sentence"
      ],
      "metadata": {
        "id": "5VKUovwbKzt7"
      }
    },
    {
      "cell_type": "code",
      "source": [
        "string = \"Hello I am Fine Thank You\"\n",
        "\n",
        "list = string.split()\n",
        "print(list)\n",
        "print(len(list))"
      ],
      "metadata": {
        "colab": {
          "base_uri": "https://localhost:8080/"
        },
        "id": "kBfKVuRCK4CI",
        "outputId": "5b0a01c3-49b0-4184-9d86-d3b4a4ef67e3"
      },
      "execution_count": null,
      "outputs": [
        {
          "output_type": "stream",
          "name": "stdout",
          "text": [
            "['Hello', 'I', 'am', 'Fine', 'Thank', 'You']\n",
            "6\n"
          ]
        }
      ]
    },
    {
      "cell_type": "markdown",
      "source": [
        "#Remove reoccuring char from a string"
      ],
      "metadata": {
        "id": "Ftz1CXTYNaw9"
      }
    },
    {
      "cell_type": "code",
      "source": [
        "\n",
        "\n",
        "def removerepeat(string):\n",
        "  seenchar = set()\n",
        "  output = \"\"\n",
        "  for char in string:\n",
        "    if char not in seenchar:\n",
        "      seenchar.add(char)\n",
        "      output += char\n",
        "  return output\n",
        "\n",
        "\n",
        "removerepeat(\"124dkfoeeeosllllskaaaldll111222\")\n",
        "\n",
        "\n"
      ],
      "metadata": {
        "colab": {
          "base_uri": "https://localhost:8080/",
          "height": 36
        },
        "id": "VS_6NUvFNYSW",
        "outputId": "ac7d53e0-619a-4165-f732-8c2bb2aba0b8"
      },
      "execution_count": null,
      "outputs": [
        {
          "output_type": "execute_result",
          "data": {
            "text/plain": [
              "'124dkfoesla'"
            ],
            "application/vnd.google.colaboratory.intrinsic+json": {
              "type": "string"
            }
          },
          "metadata": {},
          "execution_count": 42
        }
      ]
    },
    {
      "cell_type": "code",
      "source": [
        "test_string = \"There are 22 apples for 4 persons\"\n",
        "\n",
        "# printing original string\n",
        "print(\"The original string : \" + test_string)\n",
        "\n",
        "# using List comprehension + isdigit() +split()\n",
        "# getting numbers from string\n",
        "res = [int(i) for i in test_string.split() if i.isdigit()]\n",
        "\n",
        "# print result\n",
        "print(\"The numbers list is :\" + str(res))"
      ],
      "metadata": {
        "colab": {
          "base_uri": "https://localhost:8080/"
        },
        "id": "3f3hQNhGQNaq",
        "outputId": "0942a0e1-5b84-4d23-df3a-7ac5b8502baf"
      },
      "execution_count": null,
      "outputs": [
        {
          "output_type": "stream",
          "name": "stdout",
          "text": [
            "The original string : There are 22 apples for 4 persons\n",
            "The numbers list is :[22, 4]\n"
          ]
        }
      ]
    },
    {
      "cell_type": "markdown",
      "source": [
        "#**Dictionaries**"
      ],
      "metadata": {
        "id": "cf75lMQWQOUD"
      }
    },
    {
      "cell_type": "code",
      "source": [
        "counts = dict()\n",
        "names = ['aman','reyan','aman','tannu','tannu','riya','riya']\n",
        "\n",
        "for name in names:\n",
        "  if name not in counts:\n",
        "    counts[name]=1\n",
        "  else:\n",
        "     counts[name]+=1\n",
        "\n",
        "print(counts)"
      ],
      "metadata": {
        "colab": {
          "base_uri": "https://localhost:8080/"
        },
        "id": "n6YMy9YIQMkE",
        "outputId": "d3832d76-3587-4691-8e79-2a20fc3d66a5"
      },
      "execution_count": 7,
      "outputs": [
        {
          "output_type": "stream",
          "name": "stdout",
          "text": [
            "{'aman': 2, 'reyan': 1, 'tannu': 2, 'riya': 2}\n"
          ]
        }
      ]
    },
    {
      "cell_type": "code",
      "source": [
        "#Using get method\n",
        "counts = dict()\n",
        "names = ['aman','reyan','aman','tannu','tannu','riya','riya']\n",
        "\n",
        "for name in names:\n",
        "  counts[name] = counts.get(name,0)+1\n",
        "\n",
        "print(counts)\n"
      ],
      "metadata": {
        "colab": {
          "base_uri": "https://localhost:8080/"
        },
        "id": "x-bXbE_URJHn",
        "outputId": "0a8dca3f-bcc3-4784-c39b-77345f7cea06"
      },
      "execution_count": 8,
      "outputs": [
        {
          "output_type": "stream",
          "name": "stdout",
          "text": [
            "{'aman': 2, 'reyan': 1, 'tannu': 2, 'riya': 2}\n"
          ]
        }
      ]
    },
    {
      "cell_type": "markdown",
      "source": [
        "#Looping in Dictionaries"
      ],
      "metadata": {
        "id": "eaFM8GcUZxJ6"
      }
    },
    {
      "cell_type": "code",
      "source": [
        "counts = dict()\n",
        "names = ['aman','reyan','aman','tannu','tannu','riya','riya','Ramnaman','Aryaman']\n",
        "\n",
        "for name in names:\n",
        "  counts[name] = counts.get(name,0)+1\n",
        "\n",
        "for key in counts:\n",
        "  print(key,counts[key])"
      ],
      "metadata": {
        "colab": {
          "base_uri": "https://localhost:8080/"
        },
        "id": "JwisNt_LZzl_",
        "outputId": "d802cfe4-1c92-4b29-a497-3ceb2de4e16c"
      },
      "execution_count": 13,
      "outputs": [
        {
          "output_type": "stream",
          "name": "stdout",
          "text": [
            "aman 2\n",
            "reyan 1\n",
            "tannu 2\n",
            "riya 2\n",
            "Ramnaman 1\n",
            "Aryaman 1\n"
          ]
        }
      ]
    },
    {
      "cell_type": "code",
      "source": [
        "print(\"Dictionary counts is \",counts)\n",
        "\n",
        "print(\"Using print(list(counts)) \",list(counts))\n",
        "print(\"Using print(list(counts.keys())) \",list(counts.keys()))\n",
        "print(\"Using print(list(counts.values())) \",list(counts.values()))\n",
        "print(\"Using print(list(counts.items())) \",list(counts.items()))"
      ],
      "metadata": {
        "colab": {
          "base_uri": "https://localhost:8080/"
        },
        "id": "6P0_aMKub8X2",
        "outputId": "6e024695-dd56-43cf-fbcc-fa538954c695"
      },
      "execution_count": 14,
      "outputs": [
        {
          "output_type": "stream",
          "name": "stdout",
          "text": [
            "Dictionary counts is  {'aman': 2, 'reyan': 1, 'tannu': 2, 'riya': 2, 'Ramnaman': 1, 'Aryaman': 1}\n",
            "Using print(list(counts))  ['aman', 'reyan', 'tannu', 'riya', 'Ramnaman', 'Aryaman']\n",
            "Using print(list(counts.keys()))  ['aman', 'reyan', 'tannu', 'riya', 'Ramnaman', 'Aryaman']\n",
            "Using print(list(counts.values()))  [2, 1, 2, 2, 1, 1]\n",
            "Using print(list(counts.items()))  [('aman', 2), ('reyan', 1), ('tannu', 2), ('riya', 2), ('Ramnaman', 1), ('Aryaman', 1)]\n"
          ]
        }
      ]
    },
    {
      "cell_type": "markdown",
      "source": [
        "#Two-Iteration **Variables**"
      ],
      "metadata": {
        "id": "zPYw8v2EgawW"
      }
    },
    {
      "cell_type": "code",
      "source": [
        "listofkeys = []\n",
        "\n",
        "for aaa,bbb in counts.items():\n",
        "  if bbb >=2:\n",
        "    print(aaa)\n",
        "\n",
        "  listofkeys.append(aaa.lower())\n",
        "\n",
        "print(\"All keys of dict are \",listofkeys[::-1])"
      ],
      "metadata": {
        "colab": {
          "base_uri": "https://localhost:8080/"
        },
        "id": "aCNF1wTxgfr8",
        "outputId": "309419a6-ce22-4324-b3b1-a0afc683d709"
      },
      "execution_count": 23,
      "outputs": [
        {
          "output_type": "stream",
          "name": "stdout",
          "text": [
            "aman\n",
            "tannu\n",
            "riya\n",
            "All keys of dict are  ['aryaman', 'ramnaman', 'riya', 'tannu', 'reyan', 'aman']\n"
          ]
        }
      ]
    },
    {
      "cell_type": "markdown",
      "source": [
        "#Finding count of the most occuring word in a file"
      ],
      "metadata": {
        "id": "3iXPxJRLjgma"
      }
    },
    {
      "cell_type": "code",
      "source": [
        "file = input(\"Enter File Name: \")\n",
        "fhand1 = open(file)\n",
        "filecounts = {}\n",
        "for line in fhand1:\n",
        "  words = line.split()\n",
        "  for eachword in words:\n",
        "    filecounts[eachword]=filecounts.get(eachword,0)+1\n",
        "\n",
        "maxcount = None\n",
        "max_occ = None\n",
        "\n",
        "for word,count in filecounts.items():\n",
        "  if maxcount is None or count>max_occ:\n",
        "    maxcount = word\n",
        "    max_occ = count\n",
        "\n",
        "print(maxcount,max_occ)\n",
        "\n",
        "\n"
      ],
      "metadata": {
        "colab": {
          "base_uri": "https://localhost:8080/"
        },
        "id": "FyPHb6sijfjN",
        "outputId": "dce840e3-0f1a-4eec-d326-29ec3c7039bd"
      },
      "execution_count": 31,
      "outputs": [
        {
          "output_type": "stream",
          "name": "stdout",
          "text": [
            "Enter File Name: mbox.txt\n",
            "Jan 142\n"
          ]
        }
      ]
    },
    {
      "cell_type": "markdown",
      "source": [
        "#**Tuple**"
      ],
      "metadata": {
        "id": "8k0t_xd7bLi2"
      }
    },
    {
      "cell_type": "markdown",
      "source": [
        "#10 most Common Words"
      ],
      "metadata": {
        "id": "ASTPMfvhbOLJ"
      }
    },
    {
      "cell_type": "code",
      "source": [
        "filename = input('Enter file name: ')\n",
        "filehand = open(filename)\n",
        "\n",
        "counts = dict()\n",
        "for lines in filehand:\n",
        "  words = lines.split()\n",
        "  for word in words:\n",
        "    counts[word] = counts.get(word,0)+1\n",
        "\n",
        "newlist = []\n",
        "for k,v in counts.items():\n",
        "  newtuple = (v,k)\n",
        "  newlist.append(newtuple)\n",
        "\n",
        "newlist = sorted(newlist,reverse=True) #Here reverse=True is used as we need top 10 most occuring words\n",
        "\n",
        "for val,key in newlist[:10]:\n",
        "  print(key,val)\n"
      ],
      "metadata": {
        "colab": {
          "base_uri": "https://localhost:8080/"
        },
        "id": "YebGe8_4bRwE",
        "outputId": "53f03204-3c5e-4a66-90ae-6fb81fada64f"
      },
      "execution_count": 4,
      "outputs": [
        {
          "output_type": "stream",
          "name": "stdout",
          "text": [
            "Enter file name: test.txt\n",
            "the 47\n",
            "to 43\n",
            "a 29\n",
            "random 23\n",
            "Random 22\n",
            "paragraph 16\n",
            "Generator 16\n",
            "of 15\n",
            "in 15\n",
            "is 14\n"
          ]
        }
      ]
    },
    {
      "cell_type": "markdown",
      "source": [
        "Q. Write a program to read through the mbox-short.txt and figure out the distribution by hour of the day for each of the messages. You can pull the hour out from the 'From ' line by finding the time and then splitting the string a second time using a colon.  \n",
        "From stephen.marquard@uct.ac.za Sat Jan  5 09:14:16 2008\n",
        "Once you have accumulated the counts for each hour, print out the counts, sorted by hour as shown below."
      ],
      "metadata": {
        "id": "gofbr6zvi0Zs"
      }
    },
    {
      "cell_type": "code",
      "source": [
        "file_name = input(\"Enter file name: \")\n",
        "if len(file_name) < 1:\n",
        "    file_name = \"mbox.txt\"\n",
        "try:\n",
        "    fhand = open(file_name)\n",
        "except File:\n",
        "    print(\"File not found:\", file_name)\n",
        "    quit()\n",
        "\n",
        "hour_counts = {}\n",
        "\n",
        "for line in fhand:\n",
        "    if line.startswith('From '):\n",
        "        words = line.split()\n",
        "        time = words[5].split(':')\n",
        "        hour = time[0]\n",
        "        hour_counts[hour] = hour_counts.get(hour, 0) + 1\n",
        "\n",
        "sorted_hours = sorted(hour_counts.items())\n",
        "\n",
        "for hour, count in sorted_hours:\n",
        "    print(hour, count)\n"
      ],
      "metadata": {
        "colab": {
          "base_uri": "https://localhost:8080/"
        },
        "id": "f4tpEhjwi7Yz",
        "outputId": "2af6ce27-6764-492e-8ec2-005b95fefc8d"
      },
      "execution_count": 5,
      "outputs": [
        {
          "output_type": "stream",
          "name": "stdout",
          "text": [
            "Enter file name: \n",
            "09 1\n",
            "11 5\n",
            "14 1\n",
            "15 2\n",
            "16 1\n",
            "18 1\n"
          ]
        }
      ]
    }
  ]
}