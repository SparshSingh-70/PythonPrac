{
  "nbformat": 4,
  "nbformat_minor": 0,
  "metadata": {
    "colab": {
      "provenance": []
    },
    "kernelspec": {
      "name": "python3",
      "display_name": "Python 3"
    },
    "language_info": {
      "name": "python"
    }
  },
  "cells": [
    {
      "cell_type": "markdown",
      "source": [
        "Q : write a program to find number of occurrence of each vowel present in a given string"
      ],
      "metadata": {
        "id": "iQ5cthNgqYnj"
      }
    },
    {
      "cell_type": "code",
      "execution_count": 3,
      "metadata": {
        "colab": {
          "base_uri": "https://localhost:8080/"
        },
        "id": "GbKUXISiqUh6",
        "outputId": "46fa2fef-81b4-4274-b4da-39f05000def1"
      },
      "outputs": [
        {
          "output_type": "stream",
          "name": "stdout",
          "text": [
            "Enter Stringhexadecimalqueerisaa\n",
            "Occurence of each vowel in string: \n",
            "a:4\n",
            "e:4\n",
            "i:2\n",
            "o:0\n",
            "u:1\n"
          ]
        }
      ],
      "source": [
        "def count_vowels(string):\n",
        "  string = string.lower()\n",
        "  vowels = 'aeiou'\n",
        "  vowels_count = {}\n",
        "  vowels_count = {vowel:0 for vowel in vowels}\n",
        "\n",
        "  for char in string:\n",
        "    if char in vowels:\n",
        "      vowels_count[char] += 1\n",
        "\n",
        "  for vowel,count in vowels_count.items():\n",
        "    print(f'{vowel}:{count}')\n",
        "\n",
        "\n",
        "\n",
        "\n",
        "input_string = input(\"Enter String: \")\n",
        "print(\"Occurence of each vowel in string: \")\n",
        "count_vowels(input_string)"
      ]
    },
    {
      "cell_type": "markdown",
      "source": [
        "Q. Write a program that prints the numbers from 1 to 100. But for multiple of three print \"Fizz\" instead of the number and for the multiples of five print \"Buzz\". For numbers which are multiples of both three and five print \"FizBuzz\""
      ],
      "metadata": {
        "id": "7NVq0zrusIen"
      }
    },
    {
      "cell_type": "code",
      "source": [
        "for i in range(1,111):\n",
        "  if i%3==0 and i%5==0:\n",
        "    print(\"FizzBuzz\")\n",
        "  elif i%3==0:\n",
        "    print(\"Fizz\")\n",
        "  elif i%5==0:\n",
        "    print(\"Buzz\")\n",
        "  else:\n",
        "    print(i)"
      ],
      "metadata": {
        "colab": {
          "base_uri": "https://localhost:8080/"
        },
        "id": "Mtrzm6rQsUmu",
        "outputId": "2dc50339-af0e-45bb-a8a5-536f00ee94da"
      },
      "execution_count": 7,
      "outputs": [
        {
          "output_type": "stream",
          "name": "stdout",
          "text": [
            "1\n",
            "2\n",
            "Fizz\n",
            "4\n",
            "Buzz\n",
            "Fizz\n",
            "7\n",
            "8\n",
            "Fizz\n",
            "Buzz\n",
            "11\n",
            "Fizz\n",
            "13\n",
            "14\n",
            "FizzBuzz\n",
            "16\n",
            "17\n",
            "Fizz\n",
            "19\n",
            "Buzz\n",
            "Fizz\n",
            "22\n",
            "23\n",
            "Fizz\n",
            "Buzz\n",
            "26\n",
            "Fizz\n",
            "28\n",
            "29\n",
            "FizzBuzz\n",
            "31\n",
            "32\n",
            "Fizz\n",
            "34\n",
            "Buzz\n",
            "Fizz\n",
            "37\n",
            "38\n",
            "Fizz\n",
            "Buzz\n",
            "41\n",
            "Fizz\n",
            "43\n",
            "44\n",
            "FizzBuzz\n",
            "46\n",
            "47\n",
            "Fizz\n",
            "49\n",
            "Buzz\n",
            "Fizz\n",
            "52\n",
            "53\n",
            "Fizz\n",
            "Buzz\n",
            "56\n",
            "Fizz\n",
            "58\n",
            "59\n",
            "FizzBuzz\n",
            "61\n",
            "62\n",
            "Fizz\n",
            "64\n",
            "Buzz\n",
            "Fizz\n",
            "67\n",
            "68\n",
            "Fizz\n",
            "Buzz\n",
            "71\n",
            "Fizz\n",
            "73\n",
            "74\n",
            "FizzBuzz\n",
            "76\n",
            "77\n",
            "Fizz\n",
            "79\n",
            "Buzz\n",
            "Fizz\n",
            "82\n",
            "83\n",
            "Fizz\n",
            "Buzz\n",
            "86\n",
            "Fizz\n",
            "88\n",
            "89\n",
            "FizzBuzz\n",
            "91\n",
            "92\n",
            "Fizz\n",
            "94\n",
            "Buzz\n",
            "Fizz\n",
            "97\n",
            "98\n",
            "Fizz\n",
            "Buzz\n",
            "101\n",
            "Fizz\n",
            "103\n",
            "104\n",
            "FizzBuzz\n",
            "106\n",
            "107\n",
            "Fizz\n",
            "109\n",
            "Buzz\n"
          ]
        }
      ]
    },
    {
      "cell_type": "markdown",
      "source": [
        "Q. Wrtite a program to reverse the words of a string at its own position & the first and last character of every word should be capital?\n",
        "\n",
        "string = 'How are you'\n",
        "\n",
        "output = 'WoH ErA UoY'"
      ],
      "metadata": {
        "id": "ASRkAv7otmFx"
      }
    },
    {
      "cell_type": "code",
      "source": [
        "#input_string = input(\"Enter the string: \")\n",
        "input_string = \"How are you\"\n",
        "test_list = input_string.split()\n",
        "result_list = []\n",
        "output_string = \"\"\n",
        "\n",
        "for word in test_list:\n",
        "  result_word = word[0].upper()+word[1:-1]+word[-1].upper()\n",
        "  result_word = result_word[::-1]\n",
        "  result_list.append(result_word)\n",
        "\n",
        "\n",
        "output_string = ' '.join(result_list)\n",
        "print(output_string)\n",
        "\n"
      ],
      "metadata": {
        "colab": {
          "base_uri": "https://localhost:8080/"
        },
        "id": "7n0pTysbtq24",
        "outputId": "ad3b99c8-9199-48c0-ba82-6a230fc69037"
      },
      "execution_count": 23,
      "outputs": [
        {
          "output_type": "stream",
          "name": "stdout",
          "text": [
            "WoH ErA UoY\n"
          ]
        }
      ]
    },
    {
      "cell_type": "markdown",
      "source": [
        "Question : write a script to store Subject and Marks into a dictionary by taking inputs from users and display the records as a dictionary?\n",
        "Example:\n",
        "\n",
        "\tEnter no of records :  2\n",
        "\tEnter Subject : Maths\n",
        "\tEnter Marks : 80\n",
        "\tEnter Subject : English\n",
        "\tEnter Marks : 70\n",
        "\n",
        "\tresults : {'Maths':80,'English':70}"
      ],
      "metadata": {
        "id": "k3YZWVHQwOXV"
      }
    },
    {
      "cell_type": "code",
      "source": [
        "n = input(\"Enter no of records :\")\n",
        "num = int(n)\n",
        "marks_dict = {}\n",
        "\n",
        "for i in range(num):\n",
        "  subject = input(\"Enter Subject: \")\n",
        "  marks = int(input(\"Enter Marks: \"))\n",
        "  marks_dict[subject] = marks\n",
        "\n",
        "print(\"Result: \",marks_dict)"
      ],
      "metadata": {
        "colab": {
          "base_uri": "https://localhost:8080/"
        },
        "id": "B8mq-G4_wqAt",
        "outputId": "ed8d6100-dd7d-49fa-a253-9c2e574887b7"
      },
      "execution_count": 17,
      "outputs": [
        {
          "output_type": "stream",
          "name": "stdout",
          "text": [
            "Enter no of records :3\n",
            "Enter Subject: English\n",
            "Enter Marks: 98\n",
            "Enter Subject: Maths\n",
            "Enter Marks: 95\n",
            "Enter Subject: Science\n",
            "Enter Marks: 99\n",
            "Result:  {'English': 98, 'Maths': 95, 'Science': 99}\n"
          ]
        }
      ]
    },
    {
      "cell_type": "markdown",
      "source": [
        " Q. write a program to find primefactors of a number"
      ],
      "metadata": {
        "id": "TG-R9pAfzGCH"
      }
    },
    {
      "cell_type": "code",
      "source": [
        "n = int(input(\"Enter Number: \"))\n",
        "i=1\n",
        "\n",
        "while i<=n/2:\n",
        "  k=0\n",
        "  if(n%i==0):\n",
        "    j=1\n",
        "    while(j<=i):\n",
        "      if(i%j ==0):\n",
        "        k=k+1\n",
        "      j=j+1\n",
        "    if(k==2):\n",
        "      print(i)\n",
        "  i=i+1\n"
      ],
      "metadata": {
        "colab": {
          "base_uri": "https://localhost:8080/"
        },
        "id": "UzE-Ppy8zKni",
        "outputId": "e1411035-9fda-4611-ff48-109fa37238d9"
      },
      "execution_count": 22,
      "outputs": [
        {
          "output_type": "stream",
          "name": "stdout",
          "text": [
            "Enter Number: 3300\n",
            "2\n",
            "3\n",
            "5\n",
            "11\n"
          ]
        }
      ]
    },
    {
      "cell_type": "code",
      "source": [
        "'''n = int(input(\"Enter Number: \"))\n",
        "prime_factors = []\n",
        "divisor = 2\n",
        "\n",
        "while n>1:\n",
        "'''"
      ],
      "metadata": {
        "id": "WyC2ZcLz2rq9"
      },
      "execution_count": null,
      "outputs": []
    }
  ]
}